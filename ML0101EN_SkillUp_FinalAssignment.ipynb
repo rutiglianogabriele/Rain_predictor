{
  "metadata": {
    "kernelspec": {
      "name": "python",
      "display_name": "Python (Pyodide)",
      "language": "python"
    },
    "language_info": {
      "codemirror_mode": {
        "name": "python",
        "version": 3
      },
      "file_extension": ".py",
      "mimetype": "text/x-python",
      "name": "python",
      "nbconvert_exporter": "python",
      "pygments_lexer": "ipython3",
      "version": "3.8"
    },
    "prev_pub_hash": "ba039b1c59dfa11e53b73e3fc8c403e1e8b43c7aedf6f7e0b1d1e7914b44d98a"
  },
  "nbformat_minor": 4,
  "nbformat": 4,
  "cells": [
    {
      "cell_type": "markdown",
      "source": "<p style=\"text-align:center\">\n    <a href=\"https://skills.network/?utm_medium=Exinfluencer&utm_source=Exinfluencer&utm_content=000026UJ&utm_term=10006555&utm_id=NA-SkillsNetwork-Channel-SkillsNetworkCoursesIBMDeveloperSkillsNetworkML0101ENSkillsNetwork20718538-2022-01-01\" target=\"_blank\">\n    <img src=\"https://cf-courses-data.s3.us.cloud-object-storage.appdomain.cloud/assets/logos/SN_web_lightmode.png\" width=\"200\" alt=\"Skills Network Logo\">\n    </a>\n</p>\n\n<h1 align=\"center\"><font size=\"5\">Final Project: Classification with Python</font></h1>\n",
      "metadata": {}
    },
    {
      "cell_type": "markdown",
      "source": "<h2>Table of Contents</h2>\n<div class=\"alert alert-block alert-info\" style=\"margin-top: 20px\">\n    <ul>\n    <li><a href=\"https://#Section_1\">Instructions</a></li>\n    <li><a href=\"https://#Section_2\">About the Data</a></li>\n    <li><a href=\"https://#Section_3\">Importing Data </a></li>\n    <li><a href=\"https://#Section_4\">Data Preprocessing</a> </li>\n    <li><a href=\"https://#Section_5\">One Hot Encoding </a></li>\n    <li><a href=\"https://#Section_6\">Train and Test Data Split </a></li>\n    <li><a href=\"https://#Section_7\">Train Logistic Regression, KNN, Decision Tree, SVM, and Linear Regression models and return their appropriate accuracy scores</a></li>\n</a></li>\n</div>\n<p>Estimated Time Needed: <strong>180 min</strong></p>\n</div>\n\n<hr>\n",
      "metadata": {}
    },
    {
      "cell_type": "markdown",
      "source": "# Instructions\n",
      "metadata": {}
    },
    {
      "cell_type": "markdown",
      "source": "In this notebook, you will  practice all the classification algorithms that we have learned in this course.\n\n\nBelow, is where we are going to use the classification algorithms to create a model based on our training data and evaluate our testing data using evaluation metrics learned in the course.\n\nWe will use some of the algorithms taught in the course, specifically:\n\n1. Linear Regression\n2. KNN\n3. Decision Trees\n4. Logistic Regression\n5. SVM\n\nWe will evaluate our models using:\n\n1.  Accuracy Score\n2.  Jaccard Index\n3.  F1-Score\n4.  LogLoss\n5.  Mean Absolute Error\n6.  Mean Squared Error\n7.  R2-Score\n\nFinally, you will use your models to generate the report at the end. \n",
      "metadata": {}
    },
    {
      "cell_type": "markdown",
      "source": "# About The Dataset\n",
      "metadata": {}
    },
    {
      "cell_type": "markdown",
      "source": "The original source of the data is Australian Government's Bureau of Meteorology and the latest data can be gathered from [http://www.bom.gov.au/climate/dwo/](http://www.bom.gov.au/climate/dwo/?utm_medium=Exinfluencer&utm_source=Exinfluencer&utm_content=000026UJ&utm_term=10006555&utm_id=NA-SkillsNetwork-Channel-SkillsNetworkCoursesIBMDeveloperSkillsNetworkML0101ENSkillsNetwork20718538-2022-01-01).\n\nThe dataset to be used has extra columns like 'RainToday' and our target is 'RainTomorrow', which was gathered from the Rattle at [https://bitbucket.org/kayontoga/rattle/src/master/data/weatherAUS.RData](https://bitbucket.org/kayontoga/rattle/src/master/data/weatherAUS.RData?utm_medium=Exinfluencer&utm_source=Exinfluencer&utm_content=000026UJ&utm_term=10006555&utm_id=NA-SkillsNetwork-Channel-SkillsNetworkCoursesIBMDeveloperSkillsNetworkML0101ENSkillsNetwork20718538-2022-01-01)\n\n\n",
      "metadata": {}
    },
    {
      "cell_type": "markdown",
      "source": "This dataset contains observations of weather metrics for each day from 2008 to 2017. The **weatherAUS.csv** dataset includes the following fields:\n\n| Field         | Description                                           | Unit            | Type   |\n| ------------- | ----------------------------------------------------- | --------------- | ------ |\n| Date          | Date of the Observation in YYYY-MM-DD                 | Date            | object |\n| Location      | Location of the Observation                           | Location        | object |\n| MinTemp       | Minimum temperature                                   | Celsius         | float  |\n| MaxTemp       | Maximum temperature                                   | Celsius         | float  |\n| Rainfall      | Amount of rainfall                                    | Millimeters     | float  |\n| Evaporation   | Amount of evaporation                                 | Millimeters     | float  |\n| Sunshine      | Amount of bright sunshine                             | hours           | float  |\n| WindGustDir   | Direction of the strongest gust                       | Compass Points  | object |\n| WindGustSpeed | Speed of the strongest gust                           | Kilometers/Hour | object |\n| WindDir9am    | Wind direction averaged of 10 minutes prior to 9am    | Compass Points  | object |\n| WindDir3pm    | Wind direction averaged of 10 minutes prior to 3pm    | Compass Points  | object |\n| WindSpeed9am  | Wind speed averaged of 10 minutes prior to 9am        | Kilometers/Hour | float  |\n| WindSpeed3pm  | Wind speed averaged of 10 minutes prior to 3pm        | Kilometers/Hour | float  |\n| Humidity9am   | Humidity at 9am                                       | Percent         | float  |\n| Humidity3pm   | Humidity at 3pm                                       | Percent         | float  |\n| Pressure9am   | Atmospheric pressure reduced to mean sea level at 9am | Hectopascal     | float  |\n| Pressure3pm   | Atmospheric pressure reduced to mean sea level at 3pm | Hectopascal     | float  |\n| Cloud9am      | Fraction of the sky obscured by cloud at 9am          | Eights          | float  |\n| Cloud3pm      | Fraction of the sky obscured by cloud at 3pm          | Eights          | float  |\n| Temp9am       | Temperature at 9am                                    | Celsius         | float  |\n| Temp3pm       | Temperature at 3pm                                    | Celsius         | float  |\n| RainToday     | If there was rain today                               | Yes/No          | object |\n| RainTomorrow  | If there is rain tomorrow                             | Yes/No          | float  |\n\nColumn definitions were gathered from [http://www.bom.gov.au/climate/dwo/IDCJDW0000.shtml](http://www.bom.gov.au/climate/dwo/IDCJDW0000.shtml?utm_medium=Exinfluencer&utm_source=Exinfluencer&utm_content=000026UJ&utm_term=10006555&utm_id=NA-SkillsNetwork-Channel-SkillsNetworkCoursesIBMDeveloperSkillsNetworkML0101ENSkillsNetwork20718538-2022-01-01)\n\n",
      "metadata": {}
    },
    {
      "cell_type": "markdown",
      "source": "## **Import the required libraries**\n",
      "metadata": {}
    },
    {
      "cell_type": "code",
      "source": "# All Libraries required for this lab are listed below. The libraries pre-installed on Skills Network Labs are commented.\n# !mamba install -qy pandas==1.3.4 numpy==1.21.4 seaborn==0.9.0 matplotlib==3.5.0 scikit-learn==0.20.1\n# Note: If your environment doesn't support \"!mamba install\", use \"!pip install\"",
      "metadata": {
        "trusted": true
      },
      "outputs": [],
      "execution_count": 137
    },
    {
      "cell_type": "code",
      "source": "# Surpress warnings:\ndef warn(*args, **kwargs):\n    pass\nimport warnings\nwarnings.warn = warn",
      "metadata": {
        "trusted": true
      },
      "outputs": [],
      "execution_count": 138
    },
    {
      "cell_type": "code",
      "source": "import pandas as pd\nfrom sklearn.linear_model import LogisticRegression\nfrom sklearn.linear_model import LinearRegression\nfrom sklearn import preprocessing\nimport numpy as np\nimport matplotlib.pyplot as plt\nfrom sklearn.neighbors import KNeighborsClassifier\nfrom sklearn.model_selection import train_test_split\nfrom sklearn.tree import DecisionTreeClassifier\nfrom sklearn import svm\nfrom sklearn.metrics import jaccard_score\nfrom sklearn.metrics import f1_score, mean_squared_error, mean_absolute_error, r2_score\nfrom sklearn.metrics import log_loss\nfrom sklearn.metrics import confusion_matrix, accuracy_score\nimport sklearn.metrics as metrics",
      "metadata": {
        "trusted": true
      },
      "outputs": [],
      "execution_count": 139
    },
    {
      "cell_type": "markdown",
      "source": "### Importing the Dataset\n",
      "metadata": {}
    },
    {
      "cell_type": "code",
      "source": "from pyodide.http import pyfetch\n\nasync def download(url, filename):\n    response = await pyfetch(url)\n    if response.status == 200:\n        with open(filename, \"wb\") as f:\n            f.write(await response.bytes())",
      "metadata": {
        "trusted": true
      },
      "outputs": [],
      "execution_count": 140
    },
    {
      "cell_type": "code",
      "source": "path='https://cf-courses-data.s3.us.cloud-object-storage.appdomain.cloud/IBMDeveloperSkillsNetwork-ML0101EN-SkillUp/labs/ML-FinalAssignment/Weather_Data.csv'",
      "metadata": {
        "trusted": true
      },
      "outputs": [],
      "execution_count": 141
    },
    {
      "cell_type": "code",
      "source": "await download(path, \"Weather_Data.csv\")\nfilename =\"Weather_Data.csv\"",
      "metadata": {
        "trusted": true
      },
      "outputs": [],
      "execution_count": 142
    },
    {
      "cell_type": "code",
      "source": "from sklearn.metrics import classification_report, confusion_matrix\nimport itertools\ndef plot_confusion_matrix(cm, classes,\n                          normalize=False,\n                          title='Confusion matrix',\n                          cmap=plt.cm.Blues):\n    \"\"\"\n    This function prints and plots the confusion matrix.\n    Normalization can be applied by setting `normalize=True`.\n    \"\"\"\n    if normalize:\n        cm = cm.astype('float') / cm.sum(axis=1)[:, np.newaxis]\n        print(\"Normalized confusion matrix\")\n    else:\n        print('Confusion matrix, without normalization')\n\n    print(cm)\n\n    plt.imshow(cm, interpolation='nearest', cmap=cmap)\n    plt.title(title)\n    plt.colorbar()\n    tick_marks = np.arange(len(classes))\n    plt.xticks(tick_marks, classes, rotation=45)\n    plt.yticks(tick_marks, classes)\n\n    fmt = '.2f' if normalize else 'd'\n    thresh = cm.max() / 2.\n    for i, j in itertools.product(range(cm.shape[0]), range(cm.shape[1])):\n        plt.text(j, i, format(cm[i, j], fmt),\n                 horizontalalignment=\"center\",\n                 color=\"white\" if cm[i, j] > thresh else \"black\")\n\n    plt.tight_layout()\n    plt.ylabel('True label')\n    plt.xlabel('Predicted label')\n    ",
      "metadata": {
        "trusted": true
      },
      "outputs": [],
      "execution_count": 143
    },
    {
      "cell_type": "code",
      "source": "df = pd.read_csv(\"Weather_Data.csv\")",
      "metadata": {
        "trusted": true
      },
      "outputs": [],
      "execution_count": 144
    },
    {
      "cell_type": "markdown",
      "source": "> Note: This version of the lab is designed for JupyterLite, which necessitates downloading the dataset to the interface. However, when working with the downloaded version of this notebook on your local machines (Jupyter Anaconda), you can simply **skip the steps above of \"Importing the Dataset\"** and use the URL directly in the `pandas.read_csv()` function. You can uncomment and run the statements in the cell below.\n",
      "metadata": {}
    },
    {
      "cell_type": "code",
      "source": "#filepath = \"https://cf-courses-data.s3.us.cloud-object-storage.appdomain.cloud/IBMDeveloperSkillsNetwork-ML0101EN-SkillUp/labs/ML-FinalAssignment/Weather_Data.csv\"\n#df = pd.read_csv(filepath)",
      "metadata": {
        "trusted": true
      },
      "outputs": [],
      "execution_count": 145
    },
    {
      "cell_type": "code",
      "source": "df.head()",
      "metadata": {
        "trusted": true
      },
      "outputs": [
        {
          "execution_count": 146,
          "output_type": "execute_result",
          "data": {
            "text/plain": "       Date  MinTemp  MaxTemp  Rainfall  Evaporation  Sunshine WindGustDir  \\\n0  2/1/2008     19.5     22.4      15.6          6.2       0.0           W   \n1  2/2/2008     19.5     25.6       6.0          3.4       2.7           W   \n2  2/3/2008     21.6     24.5       6.6          2.4       0.1           W   \n3  2/4/2008     20.2     22.8      18.8          2.2       0.0           W   \n4  2/5/2008     19.7     25.7      77.4          4.8       0.0           W   \n\n   WindGustSpeed WindDir9am WindDir3pm  ...  Humidity9am  Humidity3pm  \\\n0             41          S        SSW  ...           92           84   \n1             41          W          E  ...           83           73   \n2             41        ESE        ESE  ...           88           86   \n3             41        NNE          E  ...           83           90   \n4             41        NNE          W  ...           88           74   \n\n   Pressure9am  Pressure3pm  Cloud9am  Cloud3pm  Temp9am  Temp3pm  RainToday  \\\n0       1017.6       1017.4         8         8     20.7     20.9        Yes   \n1       1017.9       1016.4         7         7     22.4     24.8        Yes   \n2       1016.7       1015.6         7         8     23.5     23.0        Yes   \n3       1014.2       1011.8         8         8     21.4     20.9        Yes   \n4       1008.3       1004.8         8         8     22.5     25.5        Yes   \n\n   RainTomorrow  \n0           Yes  \n1           Yes  \n2           Yes  \n3           Yes  \n4           Yes  \n\n[5 rows x 22 columns]",
            "text/html": "<div>\n<style scoped>\n    .dataframe tbody tr th:only-of-type {\n        vertical-align: middle;\n    }\n\n    .dataframe tbody tr th {\n        vertical-align: top;\n    }\n\n    .dataframe thead th {\n        text-align: right;\n    }\n</style>\n<table border=\"1\" class=\"dataframe\">\n  <thead>\n    <tr style=\"text-align: right;\">\n      <th></th>\n      <th>Date</th>\n      <th>MinTemp</th>\n      <th>MaxTemp</th>\n      <th>Rainfall</th>\n      <th>Evaporation</th>\n      <th>Sunshine</th>\n      <th>WindGustDir</th>\n      <th>WindGustSpeed</th>\n      <th>WindDir9am</th>\n      <th>WindDir3pm</th>\n      <th>...</th>\n      <th>Humidity9am</th>\n      <th>Humidity3pm</th>\n      <th>Pressure9am</th>\n      <th>Pressure3pm</th>\n      <th>Cloud9am</th>\n      <th>Cloud3pm</th>\n      <th>Temp9am</th>\n      <th>Temp3pm</th>\n      <th>RainToday</th>\n      <th>RainTomorrow</th>\n    </tr>\n  </thead>\n  <tbody>\n    <tr>\n      <th>0</th>\n      <td>2/1/2008</td>\n      <td>19.5</td>\n      <td>22.4</td>\n      <td>15.6</td>\n      <td>6.2</td>\n      <td>0.0</td>\n      <td>W</td>\n      <td>41</td>\n      <td>S</td>\n      <td>SSW</td>\n      <td>...</td>\n      <td>92</td>\n      <td>84</td>\n      <td>1017.6</td>\n      <td>1017.4</td>\n      <td>8</td>\n      <td>8</td>\n      <td>20.7</td>\n      <td>20.9</td>\n      <td>Yes</td>\n      <td>Yes</td>\n    </tr>\n    <tr>\n      <th>1</th>\n      <td>2/2/2008</td>\n      <td>19.5</td>\n      <td>25.6</td>\n      <td>6.0</td>\n      <td>3.4</td>\n      <td>2.7</td>\n      <td>W</td>\n      <td>41</td>\n      <td>W</td>\n      <td>E</td>\n      <td>...</td>\n      <td>83</td>\n      <td>73</td>\n      <td>1017.9</td>\n      <td>1016.4</td>\n      <td>7</td>\n      <td>7</td>\n      <td>22.4</td>\n      <td>24.8</td>\n      <td>Yes</td>\n      <td>Yes</td>\n    </tr>\n    <tr>\n      <th>2</th>\n      <td>2/3/2008</td>\n      <td>21.6</td>\n      <td>24.5</td>\n      <td>6.6</td>\n      <td>2.4</td>\n      <td>0.1</td>\n      <td>W</td>\n      <td>41</td>\n      <td>ESE</td>\n      <td>ESE</td>\n      <td>...</td>\n      <td>88</td>\n      <td>86</td>\n      <td>1016.7</td>\n      <td>1015.6</td>\n      <td>7</td>\n      <td>8</td>\n      <td>23.5</td>\n      <td>23.0</td>\n      <td>Yes</td>\n      <td>Yes</td>\n    </tr>\n    <tr>\n      <th>3</th>\n      <td>2/4/2008</td>\n      <td>20.2</td>\n      <td>22.8</td>\n      <td>18.8</td>\n      <td>2.2</td>\n      <td>0.0</td>\n      <td>W</td>\n      <td>41</td>\n      <td>NNE</td>\n      <td>E</td>\n      <td>...</td>\n      <td>83</td>\n      <td>90</td>\n      <td>1014.2</td>\n      <td>1011.8</td>\n      <td>8</td>\n      <td>8</td>\n      <td>21.4</td>\n      <td>20.9</td>\n      <td>Yes</td>\n      <td>Yes</td>\n    </tr>\n    <tr>\n      <th>4</th>\n      <td>2/5/2008</td>\n      <td>19.7</td>\n      <td>25.7</td>\n      <td>77.4</td>\n      <td>4.8</td>\n      <td>0.0</td>\n      <td>W</td>\n      <td>41</td>\n      <td>NNE</td>\n      <td>W</td>\n      <td>...</td>\n      <td>88</td>\n      <td>74</td>\n      <td>1008.3</td>\n      <td>1004.8</td>\n      <td>8</td>\n      <td>8</td>\n      <td>22.5</td>\n      <td>25.5</td>\n      <td>Yes</td>\n      <td>Yes</td>\n    </tr>\n  </tbody>\n</table>\n<p>5 rows × 22 columns</p>\n</div>"
          },
          "metadata": {}
        }
      ],
      "execution_count": 146
    },
    {
      "cell_type": "markdown",
      "source": "### Data Preprocessing\n",
      "metadata": {}
    },
    {
      "cell_type": "markdown",
      "source": "#### One Hot Encoding\n",
      "metadata": {}
    },
    {
      "cell_type": "markdown",
      "source": "First, we need to perform one hot encoding to convert categorical variables to binary variables.\n",
      "metadata": {}
    },
    {
      "cell_type": "code",
      "source": "df_sydney_processed = pd.get_dummies(data=df, columns=['RainToday', 'WindGustDir', 'WindDir9am', 'WindDir3pm'])",
      "metadata": {
        "trusted": true
      },
      "outputs": [],
      "execution_count": 147
    },
    {
      "cell_type": "markdown",
      "source": "Next, we replace the values of the 'RainTomorrow' column changing them from a categorical column to a binary column. We do not use the `get_dummies` method because we would end up with two columns for 'RainTomorrow' and we do not want, since 'RainTomorrow' is our target.\n",
      "metadata": {}
    },
    {
      "cell_type": "code",
      "source": "df_sydney_processed.replace(['No', 'Yes'], [0,1], inplace=True)",
      "metadata": {
        "trusted": true
      },
      "outputs": [],
      "execution_count": 148
    },
    {
      "cell_type": "markdown",
      "source": "### Training Data and Test Data\n",
      "metadata": {}
    },
    {
      "cell_type": "markdown",
      "source": "Now, we set our 'features' or x values and our Y or target variable.\n",
      "metadata": {}
    },
    {
      "cell_type": "code",
      "source": "df_sydney_processed.drop('Date',axis=1,inplace=True)",
      "metadata": {
        "trusted": true
      },
      "outputs": [],
      "execution_count": 149
    },
    {
      "cell_type": "code",
      "source": "df_sydney_processed = df_sydney_processed.astype(float)",
      "metadata": {
        "trusted": true
      },
      "outputs": [],
      "execution_count": 150
    },
    {
      "cell_type": "code",
      "source": "features = df_sydney_processed.drop(columns='RainTomorrow', axis=1)\nY = df_sydney_processed['RainTomorrow']",
      "metadata": {
        "trusted": true
      },
      "outputs": [],
      "execution_count": 151
    },
    {
      "cell_type": "markdown",
      "source": "### Linear Regression\n",
      "metadata": {}
    },
    {
      "cell_type": "markdown",
      "source": "#### Q1) Use the `train_test_split` function to split the `features` and `Y` dataframes with a `test_size` of `0.2` and the `random_state` set to `10`.\n",
      "metadata": {}
    },
    {
      "cell_type": "code",
      "source": "#Enter Your Code and Execute",
      "metadata": {
        "trusted": true
      },
      "outputs": [],
      "execution_count": 152
    },
    {
      "cell_type": "code",
      "source": "x_train, x_test, y_train, y_test = train_test_split(features, Y, test_size=0.2, random_state=10)",
      "metadata": {
        "trusted": true
      },
      "outputs": [],
      "execution_count": 153
    },
    {
      "cell_type": "markdown",
      "source": "#### Q2) Create and train a Linear Regression model called LinearReg using the training data (`x_train`, `y_train`).\n",
      "metadata": {}
    },
    {
      "cell_type": "code",
      "source": "#Enter Your Code and Execute",
      "metadata": {
        "trusted": true
      },
      "outputs": [],
      "execution_count": 154
    },
    {
      "cell_type": "code",
      "source": "LinearReg = LinearRegression()\n\n# Train the model using the training data\nLinearReg.fit(x_train, y_train)",
      "metadata": {
        "trusted": true
      },
      "outputs": [
        {
          "execution_count": 155,
          "output_type": "execute_result",
          "data": {
            "text/plain": "LinearRegression()",
            "text/html": "<style>#sk-container-id-5 {\n  /* Definition of color scheme common for light and dark mode */\n  --sklearn-color-text: black;\n  --sklearn-color-line: gray;\n  /* Definition of color scheme for unfitted estimators */\n  --sklearn-color-unfitted-level-0: #fff5e6;\n  --sklearn-color-unfitted-level-1: #f6e4d2;\n  --sklearn-color-unfitted-level-2: #ffe0b3;\n  --sklearn-color-unfitted-level-3: chocolate;\n  /* Definition of color scheme for fitted estimators */\n  --sklearn-color-fitted-level-0: #f0f8ff;\n  --sklearn-color-fitted-level-1: #d4ebff;\n  --sklearn-color-fitted-level-2: #b3dbfd;\n  --sklearn-color-fitted-level-3: cornflowerblue;\n\n  /* Specific color for light theme */\n  --sklearn-color-text-on-default-background: var(--sg-text-color, var(--theme-code-foreground, var(--jp-content-font-color1, black)));\n  --sklearn-color-background: var(--sg-background-color, var(--theme-background, var(--jp-layout-color0, white)));\n  --sklearn-color-border-box: var(--sg-text-color, var(--theme-code-foreground, var(--jp-content-font-color1, black)));\n  --sklearn-color-icon: #696969;\n\n  @media (prefers-color-scheme: dark) {\n    /* Redefinition of color scheme for dark theme */\n    --sklearn-color-text-on-default-background: var(--sg-text-color, var(--theme-code-foreground, var(--jp-content-font-color1, white)));\n    --sklearn-color-background: var(--sg-background-color, var(--theme-background, var(--jp-layout-color0, #111)));\n    --sklearn-color-border-box: var(--sg-text-color, var(--theme-code-foreground, var(--jp-content-font-color1, white)));\n    --sklearn-color-icon: #878787;\n  }\n}\n\n#sk-container-id-5 {\n  color: var(--sklearn-color-text);\n}\n\n#sk-container-id-5 pre {\n  padding: 0;\n}\n\n#sk-container-id-5 input.sk-hidden--visually {\n  border: 0;\n  clip: rect(1px 1px 1px 1px);\n  clip: rect(1px, 1px, 1px, 1px);\n  height: 1px;\n  margin: -1px;\n  overflow: hidden;\n  padding: 0;\n  position: absolute;\n  width: 1px;\n}\n\n#sk-container-id-5 div.sk-dashed-wrapped {\n  border: 1px dashed var(--sklearn-color-line);\n  margin: 0 0.4em 0.5em 0.4em;\n  box-sizing: border-box;\n  padding-bottom: 0.4em;\n  background-color: var(--sklearn-color-background);\n}\n\n#sk-container-id-5 div.sk-container {\n  /* jupyter's `normalize.less` sets `[hidden] { display: none; }`\n     but bootstrap.min.css set `[hidden] { display: none !important; }`\n     so we also need the `!important` here to be able to override the\n     default hidden behavior on the sphinx rendered scikit-learn.org.\n     See: https://github.com/scikit-learn/scikit-learn/issues/21755 */\n  display: inline-block !important;\n  position: relative;\n}\n\n#sk-container-id-5 div.sk-text-repr-fallback {\n  display: none;\n}\n\ndiv.sk-parallel-item,\ndiv.sk-serial,\ndiv.sk-item {\n  /* draw centered vertical line to link estimators */\n  background-image: linear-gradient(var(--sklearn-color-text-on-default-background), var(--sklearn-color-text-on-default-background));\n  background-size: 2px 100%;\n  background-repeat: no-repeat;\n  background-position: center center;\n}\n\n/* Parallel-specific style estimator block */\n\n#sk-container-id-5 div.sk-parallel-item::after {\n  content: \"\";\n  width: 100%;\n  border-bottom: 2px solid var(--sklearn-color-text-on-default-background);\n  flex-grow: 1;\n}\n\n#sk-container-id-5 div.sk-parallel {\n  display: flex;\n  align-items: stretch;\n  justify-content: center;\n  background-color: var(--sklearn-color-background);\n  position: relative;\n}\n\n#sk-container-id-5 div.sk-parallel-item {\n  display: flex;\n  flex-direction: column;\n}\n\n#sk-container-id-5 div.sk-parallel-item:first-child::after {\n  align-self: flex-end;\n  width: 50%;\n}\n\n#sk-container-id-5 div.sk-parallel-item:last-child::after {\n  align-self: flex-start;\n  width: 50%;\n}\n\n#sk-container-id-5 div.sk-parallel-item:only-child::after {\n  width: 0;\n}\n\n/* Serial-specific style estimator block */\n\n#sk-container-id-5 div.sk-serial {\n  display: flex;\n  flex-direction: column;\n  align-items: center;\n  background-color: var(--sklearn-color-background);\n  padding-right: 1em;\n  padding-left: 1em;\n}\n\n\n/* Toggleable style: style used for estimator/Pipeline/ColumnTransformer box that is\nclickable and can be expanded/collapsed.\n- Pipeline and ColumnTransformer use this feature and define the default style\n- Estimators will overwrite some part of the style using the `sk-estimator` class\n*/\n\n/* Pipeline and ColumnTransformer style (default) */\n\n#sk-container-id-5 div.sk-toggleable {\n  /* Default theme specific background. It is overwritten whether we have a\n  specific estimator or a Pipeline/ColumnTransformer */\n  background-color: var(--sklearn-color-background);\n}\n\n/* Toggleable label */\n#sk-container-id-5 label.sk-toggleable__label {\n  cursor: pointer;\n  display: block;\n  width: 100%;\n  margin-bottom: 0;\n  padding: 0.5em;\n  box-sizing: border-box;\n  text-align: center;\n}\n\n#sk-container-id-5 label.sk-toggleable__label-arrow:before {\n  /* Arrow on the left of the label */\n  content: \"▸\";\n  float: left;\n  margin-right: 0.25em;\n  color: var(--sklearn-color-icon);\n}\n\n#sk-container-id-5 label.sk-toggleable__label-arrow:hover:before {\n  color: var(--sklearn-color-text);\n}\n\n/* Toggleable content - dropdown */\n\n#sk-container-id-5 div.sk-toggleable__content {\n  max-height: 0;\n  max-width: 0;\n  overflow: hidden;\n  text-align: left;\n  /* unfitted */\n  background-color: var(--sklearn-color-unfitted-level-0);\n}\n\n#sk-container-id-5 div.sk-toggleable__content.fitted {\n  /* fitted */\n  background-color: var(--sklearn-color-fitted-level-0);\n}\n\n#sk-container-id-5 div.sk-toggleable__content pre {\n  margin: 0.2em;\n  border-radius: 0.25em;\n  color: var(--sklearn-color-text);\n  /* unfitted */\n  background-color: var(--sklearn-color-unfitted-level-0);\n}\n\n#sk-container-id-5 div.sk-toggleable__content.fitted pre {\n  /* unfitted */\n  background-color: var(--sklearn-color-fitted-level-0);\n}\n\n#sk-container-id-5 input.sk-toggleable__control:checked~div.sk-toggleable__content {\n  /* Expand drop-down */\n  max-height: 200px;\n  max-width: 100%;\n  overflow: auto;\n}\n\n#sk-container-id-5 input.sk-toggleable__control:checked~label.sk-toggleable__label-arrow:before {\n  content: \"▾\";\n}\n\n/* Pipeline/ColumnTransformer-specific style */\n\n#sk-container-id-5 div.sk-label input.sk-toggleable__control:checked~label.sk-toggleable__label {\n  color: var(--sklearn-color-text);\n  background-color: var(--sklearn-color-unfitted-level-2);\n}\n\n#sk-container-id-5 div.sk-label.fitted input.sk-toggleable__control:checked~label.sk-toggleable__label {\n  background-color: var(--sklearn-color-fitted-level-2);\n}\n\n/* Estimator-specific style */\n\n/* Colorize estimator box */\n#sk-container-id-5 div.sk-estimator input.sk-toggleable__control:checked~label.sk-toggleable__label {\n  /* unfitted */\n  background-color: var(--sklearn-color-unfitted-level-2);\n}\n\n#sk-container-id-5 div.sk-estimator.fitted input.sk-toggleable__control:checked~label.sk-toggleable__label {\n  /* fitted */\n  background-color: var(--sklearn-color-fitted-level-2);\n}\n\n#sk-container-id-5 div.sk-label label.sk-toggleable__label,\n#sk-container-id-5 div.sk-label label {\n  /* The background is the default theme color */\n  color: var(--sklearn-color-text-on-default-background);\n}\n\n/* On hover, darken the color of the background */\n#sk-container-id-5 div.sk-label:hover label.sk-toggleable__label {\n  color: var(--sklearn-color-text);\n  background-color: var(--sklearn-color-unfitted-level-2);\n}\n\n/* Label box, darken color on hover, fitted */\n#sk-container-id-5 div.sk-label.fitted:hover label.sk-toggleable__label.fitted {\n  color: var(--sklearn-color-text);\n  background-color: var(--sklearn-color-fitted-level-2);\n}\n\n/* Estimator label */\n\n#sk-container-id-5 div.sk-label label {\n  font-family: monospace;\n  font-weight: bold;\n  display: inline-block;\n  line-height: 1.2em;\n}\n\n#sk-container-id-5 div.sk-label-container {\n  text-align: center;\n}\n\n/* Estimator-specific */\n#sk-container-id-5 div.sk-estimator {\n  font-family: monospace;\n  border: 1px dotted var(--sklearn-color-border-box);\n  border-radius: 0.25em;\n  box-sizing: border-box;\n  margin-bottom: 0.5em;\n  /* unfitted */\n  background-color: var(--sklearn-color-unfitted-level-0);\n}\n\n#sk-container-id-5 div.sk-estimator.fitted {\n  /* fitted */\n  background-color: var(--sklearn-color-fitted-level-0);\n}\n\n/* on hover */\n#sk-container-id-5 div.sk-estimator:hover {\n  /* unfitted */\n  background-color: var(--sklearn-color-unfitted-level-2);\n}\n\n#sk-container-id-5 div.sk-estimator.fitted:hover {\n  /* fitted */\n  background-color: var(--sklearn-color-fitted-level-2);\n}\n\n/* Specification for estimator info (e.g. \"i\" and \"?\") */\n\n/* Common style for \"i\" and \"?\" */\n\n.sk-estimator-doc-link,\na:link.sk-estimator-doc-link,\na:visited.sk-estimator-doc-link {\n  float: right;\n  font-size: smaller;\n  line-height: 1em;\n  font-family: monospace;\n  background-color: var(--sklearn-color-background);\n  border-radius: 1em;\n  height: 1em;\n  width: 1em;\n  text-decoration: none !important;\n  margin-left: 1ex;\n  /* unfitted */\n  border: var(--sklearn-color-unfitted-level-1) 1pt solid;\n  color: var(--sklearn-color-unfitted-level-1);\n}\n\n.sk-estimator-doc-link.fitted,\na:link.sk-estimator-doc-link.fitted,\na:visited.sk-estimator-doc-link.fitted {\n  /* fitted */\n  border: var(--sklearn-color-fitted-level-1) 1pt solid;\n  color: var(--sklearn-color-fitted-level-1);\n}\n\n/* On hover */\ndiv.sk-estimator:hover .sk-estimator-doc-link:hover,\n.sk-estimator-doc-link:hover,\ndiv.sk-label-container:hover .sk-estimator-doc-link:hover,\n.sk-estimator-doc-link:hover {\n  /* unfitted */\n  background-color: var(--sklearn-color-unfitted-level-3);\n  color: var(--sklearn-color-background);\n  text-decoration: none;\n}\n\ndiv.sk-estimator.fitted:hover .sk-estimator-doc-link.fitted:hover,\n.sk-estimator-doc-link.fitted:hover,\ndiv.sk-label-container:hover .sk-estimator-doc-link.fitted:hover,\n.sk-estimator-doc-link.fitted:hover {\n  /* fitted */\n  background-color: var(--sklearn-color-fitted-level-3);\n  color: var(--sklearn-color-background);\n  text-decoration: none;\n}\n\n/* Span, style for the box shown on hovering the info icon */\n.sk-estimator-doc-link span {\n  display: none;\n  z-index: 9999;\n  position: relative;\n  font-weight: normal;\n  right: .2ex;\n  padding: .5ex;\n  margin: .5ex;\n  width: min-content;\n  min-width: 20ex;\n  max-width: 50ex;\n  color: var(--sklearn-color-text);\n  box-shadow: 2pt 2pt 4pt #999;\n  /* unfitted */\n  background: var(--sklearn-color-unfitted-level-0);\n  border: .5pt solid var(--sklearn-color-unfitted-level-3);\n}\n\n.sk-estimator-doc-link.fitted span {\n  /* fitted */\n  background: var(--sklearn-color-fitted-level-0);\n  border: var(--sklearn-color-fitted-level-3);\n}\n\n.sk-estimator-doc-link:hover span {\n  display: block;\n}\n\n/* \"?\"-specific style due to the `<a>` HTML tag */\n\n#sk-container-id-5 a.estimator_doc_link {\n  float: right;\n  font-size: 1rem;\n  line-height: 1em;\n  font-family: monospace;\n  background-color: var(--sklearn-color-background);\n  border-radius: 1rem;\n  height: 1rem;\n  width: 1rem;\n  text-decoration: none;\n  /* unfitted */\n  color: var(--sklearn-color-unfitted-level-1);\n  border: var(--sklearn-color-unfitted-level-1) 1pt solid;\n}\n\n#sk-container-id-5 a.estimator_doc_link.fitted {\n  /* fitted */\n  border: var(--sklearn-color-fitted-level-1) 1pt solid;\n  color: var(--sklearn-color-fitted-level-1);\n}\n\n/* On hover */\n#sk-container-id-5 a.estimator_doc_link:hover {\n  /* unfitted */\n  background-color: var(--sklearn-color-unfitted-level-3);\n  color: var(--sklearn-color-background);\n  text-decoration: none;\n}\n\n#sk-container-id-5 a.estimator_doc_link.fitted:hover {\n  /* fitted */\n  background-color: var(--sklearn-color-fitted-level-3);\n}\n</style><div id=\"sk-container-id-5\" class=\"sk-top-container\"><div class=\"sk-text-repr-fallback\"><pre>LinearRegression()</pre><b>In a Jupyter environment, please rerun this cell to show the HTML representation or trust the notebook. <br />On GitHub, the HTML representation is unable to render, please try loading this page with nbviewer.org.</b></div><div class=\"sk-container\" hidden><div class=\"sk-item\"><div class=\"sk-estimator fitted sk-toggleable\"><input class=\"sk-toggleable__control sk-hidden--visually\" id=\"sk-estimator-id-5\" type=\"checkbox\" checked><label for=\"sk-estimator-id-5\" class=\"sk-toggleable__label fitted sk-toggleable__label-arrow fitted\">&nbsp;&nbsp;LinearRegression<a class=\"sk-estimator-doc-link fitted\" rel=\"noreferrer\" target=\"_blank\" href=\"https://scikit-learn.org/1.4/modules/generated/sklearn.linear_model.LinearRegression.html\">?<span>Documentation for LinearRegression</span></a><span class=\"sk-estimator-doc-link fitted\">i<span>Fitted</span></span></label><div class=\"sk-toggleable__content fitted\"><pre>LinearRegression()</pre></div> </div></div></div></div>"
          },
          "metadata": {}
        }
      ],
      "execution_count": 155
    },
    {
      "cell_type": "markdown",
      "source": "#### Q3) Now use the `predict` method on the testing data (`x_test`) and save it to the array `predictions`.\n",
      "metadata": {}
    },
    {
      "cell_type": "code",
      "source": "#Enter Your Code and Execute",
      "metadata": {
        "trusted": true
      },
      "outputs": [],
      "execution_count": 156
    },
    {
      "cell_type": "code",
      "source": "predictions = LinearReg.predict(x_test)\n\nprint(predictions)\nprint(y_test)",
      "metadata": {
        "trusted": true
      },
      "outputs": [
        {
          "name": "stdout",
          "text": "[ 1.32e-01  2.76e-01  9.78e-01  2.87e-01  1.32e-01  4.60e-01  3.57e-01\n  8.56e-01  6.75e-01  3.83e-02  4.75e-03  2.81e-01  3.39e-01  7.82e-02\n  6.26e-02  5.64e-01 -6.15e-02  5.24e-01  1.54e-01  3.60e-01  6.05e-02\n  9.04e-01  4.67e-01  2.03e-01 -7.11e-02  3.84e-01  5.36e-01 -2.29e-02\n  6.40e-01 -9.56e-02  3.78e-01  1.20e-01 -1.81e-02  5.53e-02  5.64e-01\n  1.06e+00 -6.74e-03  5.14e-01 -8.83e-02  6.92e-02  2.45e-02  8.72e-01\n  2.45e-01  3.95e-01  2.68e-01  4.47e-01 -4.75e-02  1.89e-01  7.77e-01\n  1.58e-01  3.96e-03 -5.20e-02  2.07e-01 -2.08e-01 -7.61e-02  2.50e-01\n  2.79e-01  6.03e-01  6.30e-01  4.91e-01  5.65e-02  1.06e-01  6.70e-01\n  7.65e-01  9.85e-02 -6.33e-02  4.14e-01  7.25e-02  2.50e-01  2.56e-01\n  3.78e-02 -6.89e-02  3.48e-01  1.73e-01  4.15e-01 -7.25e-02  3.41e-01\n  1.87e-01 -1.55e-01  8.00e-01  2.32e-01  2.37e-01  2.56e-01  1.03e-01\n  6.21e-01  1.30e-01  3.71e-01  4.83e-01  3.08e-01  1.19e-01  5.48e-02\n  1.13e-01 -1.62e-01 -1.58e-01  7.29e-02  7.76e-01  8.43e-02  6.43e-01\n  1.22e-01  1.78e-01  3.05e-01  1.85e-01  1.13e+00  3.44e-01  8.27e-01\n  5.39e-01  2.74e-01  6.29e-01 -6.72e-02  9.64e-01  5.62e-01  2.34e-02\n  1.06e-01  9.39e-02  8.16e-02  2.92e-01  5.55e-01  6.68e-02  4.26e-02\n  9.51e-04  1.38e-01 -2.18e-01  7.01e-02  1.20e-01  1.93e-01 -3.82e-02\n  1.56e-01  7.13e-01  2.62e-01  5.35e-01  3.98e-01 -4.65e-02  2.44e-01\n  2.06e-01  2.80e-01 -1.28e-01  1.19e-01  3.83e-01  1.84e-01  7.28e-01\n  3.32e-01 -1.03e-01  2.39e-01  3.06e-01  6.63e-01  2.22e-02  1.60e-01\n  5.22e-01 -4.34e-02  7.98e-01  2.22e-01  3.90e-01 -5.63e-02  4.02e-01\n  2.34e-01  1.20e-01  3.05e-01  7.86e-01  3.33e-02  1.23e+00  8.95e-01\n  8.19e-02 -1.52e-02  1.71e-01 -6.86e-02 -1.08e-01 -5.02e-02  2.99e-01\n  3.57e-01  9.58e-02  8.85e-01 -3.33e-02  5.99e-01  8.96e-02  9.84e-02\n  3.54e-01  2.36e-01 -6.73e-02  1.44e-01  4.18e-01  5.87e-01  2.17e-01\n -3.33e-02  1.01e+00  4.26e-02 -1.74e-02  2.48e-01 -5.93e-02  2.22e-01\n -7.19e-02  8.47e-02  7.15e-02  3.50e-02  4.43e-01  1.87e-01  1.83e-01\n  7.57e-02  1.37e-02  1.85e-01  2.32e-01  5.31e-01  1.60e-01  3.95e-01\n -4.49e-02  8.39e-01  1.67e-02 -1.70e-02 -2.14e-02  1.46e-01  1.38e-01\n -3.34e-02  4.15e-01  6.57e-01 -4.91e-03  2.86e-02  4.61e-02 -7.22e-02\n  2.74e-01  5.29e-01 -5.90e-02  8.43e-01  3.26e-01  3.19e-01  3.64e-02\n -8.52e-02  2.83e-01  3.01e-01  1.38e-01  3.36e-01  4.12e-01  3.75e-01\n  1.24e-01  2.88e-01  9.06e-01  4.46e-01  2.75e-01 -6.53e-03  6.92e-01\n  6.72e-01  1.15e-01  7.75e-01  9.94e-01  5.88e-01  3.14e-01  2.26e-01\n -4.47e-02  2.26e-01  2.31e-01  3.55e-01 -1.27e-01  3.53e-02  1.82e-01\n  2.15e-01  1.76e-01 -2.96e-02  1.00e+00  1.88e-01  7.52e-01  6.20e-01\n  7.18e-01  3.16e-01  2.23e-02  3.26e-01 -6.85e-03  2.82e-01 -2.28e-02\n  7.99e-02 -2.36e-03  3.57e-01  1.36e-01  2.66e-01  1.40e-02  2.21e-01\n  7.07e-01  1.60e-01  2.04e-01  5.38e-01 -1.53e-01  2.55e-01  2.76e-01\n  2.64e-01  6.69e-02  9.74e-01  2.00e-01  7.56e-01 -3.49e-02  4.88e-01\n  5.92e-03 -7.25e-02  3.06e-01 -2.05e-01  1.91e-01 -2.46e-02 -7.71e-02\n  2.79e-01  7.84e-02  2.34e-01  4.45e-01  6.63e-02 -3.31e-02  5.83e-01\n  5.78e-02  3.20e-01  7.24e-01  1.35e-01 -2.22e-02  7.33e-01 -3.08e-01\n  1.09e+00  2.86e-01  8.85e-01  6.97e-01  5.85e-01 -2.23e-02  9.52e-01\n  7.15e-01  4.48e-01  5.80e-01  1.87e-01  2.30e-01 -5.78e-02  3.15e-01\n  8.75e-01 -1.67e-02  2.53e-01 -3.35e-02 -4.40e-02  4.14e-02  2.36e-01\n  2.03e-01  8.82e-01  5.87e-01  1.20e-01 -2.02e-02 -1.93e-02  1.03e-01\n  8.30e-03  2.29e-01 -1.69e-02  7.15e-02  1.63e-01  1.70e-01  2.47e-01\n  1.48e-01  3.92e-01 -6.66e-02  1.16e-01  1.84e-01  9.07e-02 -1.79e-02\n  2.09e-01 -1.30e-02  5.46e-01  4.16e-01  1.78e-01  1.72e-02  4.94e-01\n  1.47e-01  5.25e-01  5.98e-01  3.08e-01  3.09e-01  4.46e-01  1.68e-01\n  2.61e-01  7.56e-01  4.06e-01  4.91e-01  5.14e-01 -1.30e-01  7.91e-02\n  3.51e-01  1.00e+00  2.73e-01  6.35e-01  5.79e-01  4.68e-01  3.72e-03\n  3.59e-01  6.75e-02 -4.24e-02  7.03e-01  1.27e-01  8.00e-01  4.71e-01\n -1.74e-02  2.94e-02  5.55e-01  5.01e-02  1.15e-01 -9.69e-03  1.47e-01\n  4.71e-01 -9.27e-02  8.10e-02  3.10e-02  3.95e-01  2.24e-01  1.00e+00\n  7.08e-01  3.56e-01  2.63e-01 -2.83e-02 -9.59e-03  3.09e-02  1.42e-01\n  7.83e-02  5.13e-01  2.05e-01  3.12e-01  5.29e-01  4.62e-01  5.36e-02\n  8.17e-01  5.34e-01 -1.38e-01  5.09e-01  1.94e-01  4.56e-01  1.85e-01\n  2.22e-01  1.16e-01  6.34e-02  7.37e-02  1.02e-01  5.51e-01  7.03e-01\n  5.22e-01  5.35e-01  3.20e-02  1.11e-01 -1.19e-01  5.32e-01 -1.74e-01\n  4.54e-01  9.74e-01  4.18e-01 -1.16e-01  8.71e-01  1.62e-01  6.13e-01\n  3.17e-01 -7.86e-02  4.94e-01  7.45e-01  6.05e-02  6.04e-02  2.37e-01\n  5.79e-01  1.11e-01  3.82e-01  6.02e-01  5.84e-02  2.22e-01  3.89e-01\n  6.64e-01  1.56e-01  3.97e-01  5.80e-01  5.04e-01  1.06e-01  1.50e-01\n  2.33e-01 -3.34e-03 -2.86e-02  2.66e-01  2.61e-01 -6.16e-02  1.46e-01\n  8.25e-01  5.69e-01 -9.56e-02 -1.02e-01  8.49e-02  1.62e-01 -7.93e-02\n  9.44e-01  7.94e-02  3.38e-01  1.58e-01 -6.94e-02  2.15e-01  4.79e-01\n  2.16e-02  5.34e-01  1.43e-01 -1.58e-01  9.98e-03  2.27e-01  3.35e-01\n  6.05e-02 -2.09e-02 -1.08e-01  3.34e-01  5.10e-01  3.46e-01 -8.67e-02\n -5.00e-02  5.05e-01  8.22e-02  6.76e-02  3.23e-01  3.38e-01  5.37e-01\n  2.92e-01  3.31e-01 -4.10e-02  8.27e-01  6.03e-01  2.37e-01  7.02e-01\n  4.45e-01  5.81e-01  1.90e-01  5.45e-02  9.38e-02 -6.77e-02  1.06e-01\n -2.50e-02 -2.94e-02  6.57e-02  9.61e-02  1.03e-01  1.78e-01  1.02e-01\n  6.64e-01  1.98e-01  1.05e-01  1.13e-01 -3.24e-02  1.47e-01  4.65e-01\n  7.56e-01  2.04e-01  4.90e-01 -1.01e-01  6.62e-01  7.53e-01  9.01e-01\n  7.73e-01  2.73e-01  2.98e-01  1.87e-01  7.20e-01  2.30e-01  3.35e-01\n  8.52e-01  3.08e-02 -3.75e-03 -7.82e-02  7.50e-01  2.05e-01  4.06e-01\n  3.32e-01  1.82e-01  8.23e-01  5.03e-01  6.34e-01 -5.08e-02  4.26e-02\n  1.11e-01  1.89e-01  6.01e-01  4.09e-01  6.88e-01  2.90e-01 -9.20e-02\n  4.47e-02  1.99e-01  6.19e-01  1.42e-01  6.99e-01  3.12e-01  1.27e-01\n  8.11e-01  6.25e-02 -1.04e-01  6.60e-02  1.24e-01  5.19e-01 -5.96e-02\n  6.40e-01 -1.30e-02  3.84e-02 -1.05e-01  1.97e-01  3.36e-01  4.88e-01\n  1.94e-01  7.93e-01  1.69e-01  8.56e-02  1.69e-01  1.73e-01  3.24e-02\n  4.69e-01  2.03e-01  8.47e-01  4.21e-01  2.18e-01  1.81e-01  1.55e-01\n  7.26e-01  4.45e-01  4.88e-01  1.02e-01  4.13e-01 -1.13e-01  1.79e-01\n -9.78e-03  1.39e-01  1.12e-01  6.10e-01  2.17e-02  1.88e-01 -1.35e-01\n  7.06e-01  4.33e-01 -5.84e-02  9.29e-01  5.41e-01 -1.68e-03  9.19e-01\n -2.19e-02  1.65e-01  1.78e-01  4.73e-01 -2.86e-03  4.00e-01  1.42e-02\n  1.95e-01 -6.80e-02  5.87e-01  1.93e-01  2.33e-01  2.74e-01  9.41e-01\n  7.10e-01  1.33e-01  7.38e-02  5.58e-02 -2.26e-01  4.11e-02  5.18e-02\n  3.11e-02  2.94e-01  9.69e-01  7.99e-01 -2.30e-02  5.27e-02  2.65e-01\n  1.75e-01  7.06e-01  1.74e-01  3.44e-01]\n3066    0.0\n2456    0.0\n1629    1.0\n838     1.0\n2506    0.0\n       ... \n2632    1.0\n1725    0.0\n1158    1.0\n1661    0.0\n68      1.0\nName: RainTomorrow, Length: 655, dtype: float64\n",
          "output_type": "stream"
        }
      ],
      "execution_count": 157
    },
    {
      "cell_type": "markdown",
      "source": "#### Q4) Using the `predictions` and the `y_test` dataframe calculate the value for each metric using the appropriate function.\n",
      "metadata": {}
    },
    {
      "cell_type": "code",
      "source": "#Enter Your Code and Execute",
      "metadata": {
        "trusted": true
      },
      "outputs": [],
      "execution_count": 158
    },
    {
      "cell_type": "code",
      "source": "LinearRegression_MAE = np.mean(np.absolute(predictions - y_test))\nLinearRegression_MSE = np.mean((predictions - y_test) ** 2)\nLinearRegression_R2 = r2_score(y_test , predictions)\n\nprint(LinearRegression_MAE)\nprint(LinearRegression_MSE)\nprint(LinearRegression_R2)",
      "metadata": {
        "trusted": true
      },
      "outputs": [
        {
          "name": "stdout",
          "text": "0.256318933909176\n0.1157209828234031\n0.4271301272061002\n",
          "output_type": "stream"
        }
      ],
      "execution_count": 159
    },
    {
      "cell_type": "markdown",
      "source": "#### Q5) Show the MAE, MSE, and R2 in a tabular format using data frame for the linear model.\n",
      "metadata": {}
    },
    {
      "cell_type": "code",
      "source": "#Enter Your Code and Execute",
      "metadata": {
        "trusted": true
      },
      "outputs": [],
      "execution_count": 160
    },
    {
      "cell_type": "code",
      "source": "# Create a DataFrame to display the metrics\nreport = pd.DataFrame({\n    'Metric': ['MAE', 'MSE', 'R2'],\n    'Value': [LinearRegression_MAE, LinearRegression_MSE, LinearRegression_R2]\n})\n\nprint(report)",
      "metadata": {
        "trusted": true
      },
      "outputs": [
        {
          "name": "stdout",
          "text": "  Metric     Value\n0    MAE  0.256319\n1    MSE  0.115721\n2     R2  0.427130\n",
          "output_type": "stream"
        }
      ],
      "execution_count": 161
    },
    {
      "cell_type": "markdown",
      "source": "### KNN\n",
      "metadata": {}
    },
    {
      "cell_type": "markdown",
      "source": "#### Q6) Create and train a KNN model called KNN using the training data (`x_train`, `y_train`) with the `n_neighbors` parameter set to `4`.\n",
      "metadata": {}
    },
    {
      "cell_type": "code",
      "source": "#Enter Your Code and Execute",
      "metadata": {
        "trusted": true
      },
      "outputs": [],
      "execution_count": 162
    },
    {
      "cell_type": "code",
      "source": "KNN = KNeighborsClassifier(n_neighbors=4)\n\n# Train the model using the training data\nKNN.fit(x_train, y_train)\n\nprint(KNN)",
      "metadata": {
        "trusted": true
      },
      "outputs": [
        {
          "name": "stdout",
          "text": "KNeighborsClassifier(n_neighbors=4)\n",
          "output_type": "stream"
        }
      ],
      "execution_count": 163
    },
    {
      "cell_type": "markdown",
      "source": "#### Q7) Now use the `predict` method on the testing data (`x_test`) and save it to the array `predictions`.\n",
      "metadata": {}
    },
    {
      "cell_type": "code",
      "source": "#Enter Your Code and Execute",
      "metadata": {
        "trusted": true
      },
      "outputs": [],
      "execution_count": 164
    },
    {
      "cell_type": "code",
      "source": "predictions = KNN.predict(x_test)",
      "metadata": {
        "trusted": true
      },
      "outputs": [],
      "execution_count": 165
    },
    {
      "cell_type": "markdown",
      "source": "#### Q8) Using the `predictions` and the `y_test` dataframe calculate the value for each metric using the appropriate function.\n",
      "metadata": {}
    },
    {
      "cell_type": "code",
      "source": "#Enter Your Code and Execute",
      "metadata": {
        "trusted": true
      },
      "outputs": [],
      "execution_count": 166
    },
    {
      "cell_type": "code",
      "source": "KNN_Accuracy_Score = accuracy_score(y_test, predictions)\nKNN_JaccardIndex = jaccard_score(y_test, predictions)\nKNN_F1_Score = f1_score(y_test, predictions)\n\n# Create a DataFrame to display the metrics\nreport = pd.DataFrame({\n    'Metric': ['Accuracy Score', 'Jaccard Index', 'F1 Score'],\n    'Value': [KNN_Accuracy_Score, KNN_JaccardIndex, KNN_F1_Score]\n})\n\nprint(report)",
      "metadata": {
        "trusted": true
      },
      "outputs": [
        {
          "name": "stdout",
          "text": "           Metric     Value\n0  Accuracy Score  0.818321\n1   Jaccard Index  0.425121\n2        F1 Score  0.596610\n",
          "output_type": "stream"
        }
      ],
      "execution_count": 167
    },
    {
      "cell_type": "markdown",
      "source": "### Decision Tree\n",
      "metadata": {}
    },
    {
      "cell_type": "markdown",
      "source": "#### Q9) Create and train a Decision Tree model called Tree using the training data (`x_train`, `y_train`).\n",
      "metadata": {}
    },
    {
      "cell_type": "code",
      "source": "#Enter Your Code and Execute",
      "metadata": {
        "trusted": true
      },
      "outputs": [],
      "execution_count": 168
    },
    {
      "cell_type": "code",
      "source": "# Create the Decision Tree model\nTree = DecisionTreeClassifier(random_state=10)  # You can set a random_state for reproducibility\n\n# Train the model using the training data\nTree.fit(x_train, y_train)\n\nprint(Tree)",
      "metadata": {
        "trusted": true
      },
      "outputs": [
        {
          "name": "stdout",
          "text": "DecisionTreeClassifier(random_state=10)\n",
          "output_type": "stream"
        }
      ],
      "execution_count": 169
    },
    {
      "cell_type": "markdown",
      "source": "#### Q10) Now use the `predict` method on the testing data (`x_test`) and save it to the array `predictions`.\n",
      "metadata": {}
    },
    {
      "cell_type": "code",
      "source": "#Enter Your Code and Execute",
      "metadata": {
        "trusted": true
      },
      "outputs": [],
      "execution_count": 170
    },
    {
      "cell_type": "code",
      "source": "predictions = Tree.predict(x_test)",
      "metadata": {
        "trusted": true
      },
      "outputs": [],
      "execution_count": 171
    },
    {
      "cell_type": "markdown",
      "source": "#### Q11) Using the `predictions` and the `y_test` dataframe calculate the value for each metric using the appropriate function.\n",
      "metadata": {}
    },
    {
      "cell_type": "code",
      "source": "#Enter Your Code and Execute",
      "metadata": {
        "trusted": true
      },
      "outputs": [],
      "execution_count": 172
    },
    {
      "cell_type": "code",
      "source": "Tree_Accuracy_Score = accuracy_score(y_test, predictions)\nTree_JaccardIndex = jaccard_score(y_test, predictions)\nTree_F1_Score = f1_score(y_test, predictions)\n\n# Create a DataFrame to display the metrics\nreport = pd.DataFrame({\n    'Metric': ['Accuracy Score', 'Jaccard Index', 'F1 Score'],\n    'Value': [Tree_Accuracy_Score, Tree_JaccardIndex, Tree_F1_Score]\n})\n\nprint(report)",
      "metadata": {
        "trusted": true
      },
      "outputs": [
        {
          "name": "stdout",
          "text": "           Metric     Value\n0  Accuracy Score  0.754198\n1   Jaccard Index  0.399254\n2        F1 Score  0.570667\n",
          "output_type": "stream"
        }
      ],
      "execution_count": 173
    },
    {
      "cell_type": "markdown",
      "source": "### Logistic Regression\n",
      "metadata": {}
    },
    {
      "cell_type": "markdown",
      "source": "#### Q12) Use the `train_test_split` function to split the `features` and `Y` dataframes with a `test_size` of `0.2` and the `random_state` set to `1`.\n",
      "metadata": {}
    },
    {
      "cell_type": "code",
      "source": "#Enter Your Code and Execute",
      "metadata": {
        "trusted": true
      },
      "outputs": [],
      "execution_count": 174
    },
    {
      "cell_type": "code",
      "source": "x_train, x_test, y_train, y_test = train_test_split(features, Y, test_size=0.2, random_state=10)",
      "metadata": {
        "trusted": true
      },
      "outputs": [],
      "execution_count": 175
    },
    {
      "cell_type": "markdown",
      "source": "#### Q13) Create and train a LogisticRegression model called LR using the training data (`x_train`, `y_train`) with the `solver` parameter set to `liblinear`.\n",
      "metadata": {}
    },
    {
      "cell_type": "code",
      "source": "#Enter Your Code and Execute",
      "metadata": {
        "trusted": true
      },
      "outputs": [],
      "execution_count": 176
    },
    {
      "cell_type": "code",
      "source": "LR = LogisticRegression(solver='liblinear', random_state=1)\n\n# Train the model using the training data\nLR.fit(x_train, y_train)\n\nprint(LR)",
      "metadata": {
        "trusted": true,
        "scrolled": true
      },
      "outputs": [
        {
          "name": "stdout",
          "text": "LogisticRegression(random_state=1, solver='liblinear')\n",
          "output_type": "stream"
        }
      ],
      "execution_count": 177
    },
    {
      "cell_type": "markdown",
      "source": "#### Q14) Now, use the `predict` and `predict_proba` methods on the testing data (`x_test`) and save it as 2 arrays `predictions` and `predict_proba`.\n",
      "metadata": {}
    },
    {
      "cell_type": "code",
      "source": "#Enter Your Code and Execute",
      "metadata": {
        "trusted": true
      },
      "outputs": [],
      "execution_count": 178
    },
    {
      "cell_type": "code",
      "source": "predictions = LR.predict(x_test)",
      "metadata": {
        "trusted": true
      },
      "outputs": [],
      "execution_count": 179
    },
    {
      "cell_type": "code",
      "source": "predict_proba = LR.predict_proba(x_test)",
      "metadata": {
        "trusted": true
      },
      "outputs": [],
      "execution_count": 180
    },
    {
      "cell_type": "markdown",
      "source": "#### Q15) Using the `predictions`, `predict_proba` and the `y_test` dataframe calculate the value for each metric using the appropriate function.\n",
      "metadata": {}
    },
    {
      "cell_type": "code",
      "source": "#Enter Your Code and Execute",
      "metadata": {
        "trusted": true
      },
      "outputs": [],
      "execution_count": 181
    },
    {
      "cell_type": "code",
      "source": "LR_Accuracy_Score = accuracy_score(y_test, predictions)\nLR_JaccardIndex = jaccard_score(y_test, predictions)\nLR_F1_Score = f1_score(y_test, predictions)\nLR_Log_Loss = log_loss(y_test, predict_proba)\n\n# Create a DataFrame to display the metrics\nreport = pd.DataFrame({\n    'Metric': ['Accuracy Score', 'Jaccard Index', 'F1 Score', 'Log Loss'],\n    'Value': [LR_Accuracy_Score, LR_JaccardIndex, LR_Log_Loss, LR_Log_Loss]\n})\n\nprint(report)\n\n# Compute confusion matrix\ncnf_matrix = confusion_matrix(y_test, predictions)\nnp.set_printoptions(precision=2)\n\nprint (classification_report(y_test, predictions))\n\n# Plot non-normalized confusion matrix\nplt.figure()\nplot_confusion_matrix(cnf_matrix, classes=['No','Yes'],normalize= False,  title='Confusion matrix')",
      "metadata": {
        "trusted": true
      },
      "outputs": [
        {
          "name": "stdout",
          "text": "           Metric     Value\n0  Accuracy Score  0.838168\n1   Jaccard Index  0.518182\n2        F1 Score  0.357721\n3        Log Loss  0.357721\n              precision    recall  f1-score   support\n\n         0.0       0.86      0.92      0.89       471\n         1.0       0.76      0.62      0.68       184\n\n    accuracy                           0.84       655\n   macro avg       0.81      0.77      0.79       655\nweighted avg       0.83      0.84      0.83       655\n\nConfusion matrix, without normalization\n[[435  36]\n [ 70 114]]\n",
          "output_type": "stream"
        },
        {
          "output_type": "display_data",
          "data": {
            "text/plain": "<Figure size 640x480 with 2 Axes>",
            "image/png": "[encoded data removed]"
          },
          "metadata": {}
        }
      ],
      "execution_count": 182
    },
    {
      "cell_type": "markdown",
      "source": "### SVM\n",
      "metadata": {}
    },
    {
      "cell_type": "markdown",
      "source": "#### Q16) Create and train a SVM model called SVM using the training data (`x_train`, `y_train`).\n",
      "metadata": {}
    },
    {
      "cell_type": "code",
      "source": "#Enter Your Code and Execute",
      "metadata": {
        "trusted": true
      },
      "outputs": [],
      "execution_count": 95
    },
    {
      "cell_type": "code",
      "source": "SVM = svm.SVC(kernel='poly', degree=67)\n\n# Train the model using the training data\nSVM.fit(x_train, y_train)\n\nprint(SVM)",
      "metadata": {
        "trusted": true
      },
      "outputs": [
        {
          "name": "stdout",
          "text": "SVC(degree=67, kernel='poly')\n",
          "output_type": "stream"
        }
      ],
      "execution_count": 183
    },
    {
      "cell_type": "markdown",
      "source": "#### Q17) Now use the `predict` method on the testing data (`x_test`) and save it to the array `predictions`.\n",
      "metadata": {}
    },
    {
      "cell_type": "code",
      "source": "#Enter Your Code and Execute\nx_test",
      "metadata": {
        "trusted": true
      },
      "outputs": [
        {
          "execution_count": 184,
          "output_type": "execute_result",
          "data": {
            "text/plain": "      MinTemp  MaxTemp  Rainfall  Evaporation  Sunshine  WindGustSpeed  \\\n3066     18.7     35.7       0.2          6.0       9.8           57.0   \n2456     15.0     24.8      22.4          3.4       9.7           37.0   \n1629      8.5     16.0       3.4          2.0       4.3           74.0   \n838      11.7     19.9       1.6          1.4       4.6           41.0   \n2506      7.9     19.3       2.2          4.0      10.1           46.0   \n...       ...      ...       ...          ...       ...            ...   \n2632     12.2     19.9       0.0          4.2       8.2           43.0   \n1725     20.1     28.7       0.2          4.2      10.7           31.0   \n1158     11.6     15.7      18.2          4.8       0.3           57.0   \n1661     16.9     23.9       0.0          9.8       9.9           57.0   \n68       15.6     22.2      22.8          5.4       5.8           41.0   \n\n      WindSpeed9am  WindSpeed3pm  Humidity9am  Humidity3pm  ...  \\\n3066          13.0          17.0         44.0         24.0  ...   \n2456          19.0          20.0         72.0         53.0  ...   \n1629          35.0          22.0         84.0         87.0  ...   \n838           15.0           7.0         92.0         53.0  ...   \n2506          28.0          20.0         49.0         34.0  ...   \n...            ...           ...          ...          ...  ...   \n2632           9.0          28.0         53.0         57.0  ...   \n1725          11.0          20.0         70.0         65.0  ...   \n1158          28.0          35.0         89.0         67.0  ...   \n1661          19.0          28.0         60.0         51.0  ...   \n68            13.0          20.0         96.0         62.0  ...   \n\n      WindDir3pm_NNW  WindDir3pm_NW  WindDir3pm_S  WindDir3pm_SE  \\\n3066             0.0            0.0           0.0            0.0   \n2456             0.0            0.0           0.0            0.0   \n1629             0.0            0.0           0.0            0.0   \n838              0.0            0.0           0.0            0.0   \n2506             0.0            0.0           0.0            0.0   \n...              ...            ...           ...            ...   \n2632             0.0            0.0           0.0            1.0   \n1725             0.0            0.0           0.0            0.0   \n1158             0.0            0.0           0.0            0.0   \n1661             0.0            0.0           0.0            0.0   \n68               0.0            0.0           0.0            0.0   \n\n      WindDir3pm_SSE  WindDir3pm_SSW  WindDir3pm_SW  WindDir3pm_W  \\\n3066             0.0             0.0            0.0           0.0   \n2456             1.0             0.0            0.0           0.0   \n1629             0.0             1.0            0.0           0.0   \n838              0.0             0.0            0.0           0.0   \n2506             0.0             0.0            0.0           1.0   \n...              ...             ...            ...           ...   \n2632             0.0             0.0            0.0           0.0   \n1725             0.0             0.0            0.0           0.0   \n1158             1.0             0.0            0.0           0.0   \n1661             1.0             0.0            0.0           0.0   \n68               0.0             0.0            0.0           0.0   \n\n      WindDir3pm_WNW  WindDir3pm_WSW  \n3066             0.0             0.0  \n2456             0.0             0.0  \n1629             0.0             0.0  \n838              0.0             0.0  \n2506             0.0             0.0  \n...              ...             ...  \n2632             0.0             0.0  \n1725             0.0             0.0  \n1158             0.0             0.0  \n1661             0.0             0.0  \n68               0.0             0.0  \n\n[655 rows x 66 columns]",
            "text/html": "<div>\n<style scoped>\n    .dataframe tbody tr th:only-of-type {\n        vertical-align: middle;\n    }\n\n    .dataframe tbody tr th {\n        vertical-align: top;\n    }\n\n    .dataframe thead th {\n        text-align: right;\n    }\n</style>\n<table border=\"1\" class=\"dataframe\">\n  <thead>\n    <tr style=\"text-align: right;\">\n      <th></th>\n      <th>MinTemp</th>\n      <th>MaxTemp</th>\n      <th>Rainfall</th>\n      <th>Evaporation</th>\n      <th>Sunshine</th>\n      <th>WindGustSpeed</th>\n      <th>WindSpeed9am</th>\n      <th>WindSpeed3pm</th>\n      <th>Humidity9am</th>\n      <th>Humidity3pm</th>\n      <th>...</th>\n      <th>WindDir3pm_NNW</th>\n      <th>WindDir3pm_NW</th>\n      <th>WindDir3pm_S</th>\n      <th>WindDir3pm_SE</th>\n      <th>WindDir3pm_SSE</th>\n      <th>WindDir3pm_SSW</th>\n      <th>WindDir3pm_SW</th>\n      <th>WindDir3pm_W</th>\n      <th>WindDir3pm_WNW</th>\n      <th>WindDir3pm_WSW</th>\n    </tr>\n  </thead>\n  <tbody>\n    <tr>\n      <th>3066</th>\n      <td>18.7</td>\n      <td>35.7</td>\n      <td>0.2</td>\n      <td>6.0</td>\n      <td>9.8</td>\n      <td>57.0</td>\n      <td>13.0</td>\n      <td>17.0</td>\n      <td>44.0</td>\n      <td>24.0</td>\n      <td>...</td>\n      <td>0.0</td>\n      <td>0.0</td>\n      <td>0.0</td>\n      <td>0.0</td>\n      <td>0.0</td>\n      <td>0.0</td>\n      <td>0.0</td>\n      <td>0.0</td>\n      <td>0.0</td>\n      <td>0.0</td>\n    </tr>\n    <tr>\n      <th>2456</th>\n      <td>15.0</td>\n      <td>24.8</td>\n      <td>22.4</td>\n      <td>3.4</td>\n      <td>9.7</td>\n      <td>37.0</td>\n      <td>19.0</td>\n      <td>20.0</td>\n      <td>72.0</td>\n      <td>53.0</td>\n      <td>...</td>\n      <td>0.0</td>\n      <td>0.0</td>\n      <td>0.0</td>\n      <td>0.0</td>\n      <td>1.0</td>\n      <td>0.0</td>\n      <td>0.0</td>\n      <td>0.0</td>\n      <td>0.0</td>\n      <td>0.0</td>\n    </tr>\n    <tr>\n      <th>1629</th>\n      <td>8.5</td>\n      <td>16.0</td>\n      <td>3.4</td>\n      <td>2.0</td>\n      <td>4.3</td>\n      <td>74.0</td>\n      <td>35.0</td>\n      <td>22.0</td>\n      <td>84.0</td>\n      <td>87.0</td>\n      <td>...</td>\n      <td>0.0</td>\n      <td>0.0</td>\n      <td>0.0</td>\n      <td>0.0</td>\n      <td>0.0</td>\n      <td>1.0</td>\n      <td>0.0</td>\n      <td>0.0</td>\n      <td>0.0</td>\n      <td>0.0</td>\n    </tr>\n    <tr>\n      <th>838</th>\n      <td>11.7</td>\n      <td>19.9</td>\n      <td>1.6</td>\n      <td>1.4</td>\n      <td>4.6</td>\n      <td>41.0</td>\n      <td>15.0</td>\n      <td>7.0</td>\n      <td>92.0</td>\n      <td>53.0</td>\n      <td>...</td>\n      <td>0.0</td>\n      <td>0.0</td>\n      <td>0.0</td>\n      <td>0.0</td>\n      <td>0.0</td>\n      <td>0.0</td>\n      <td>0.0</td>\n      <td>0.0</td>\n      <td>0.0</td>\n      <td>0.0</td>\n    </tr>\n    <tr>\n      <th>2506</th>\n      <td>7.9</td>\n      <td>19.3</td>\n      <td>2.2</td>\n      <td>4.0</td>\n      <td>10.1</td>\n      <td>46.0</td>\n      <td>28.0</td>\n      <td>20.0</td>\n      <td>49.0</td>\n      <td>34.0</td>\n      <td>...</td>\n      <td>0.0</td>\n      <td>0.0</td>\n      <td>0.0</td>\n      <td>0.0</td>\n      <td>0.0</td>\n      <td>0.0</td>\n      <td>0.0</td>\n      <td>1.0</td>\n      <td>0.0</td>\n      <td>0.0</td>\n    </tr>\n    <tr>\n      <th>...</th>\n      <td>...</td>\n      <td>...</td>\n      <td>...</td>\n      <td>...</td>\n      <td>...</td>\n      <td>...</td>\n      <td>...</td>\n      <td>...</td>\n      <td>...</td>\n      <td>...</td>\n      <td>...</td>\n      <td>...</td>\n      <td>...</td>\n      <td>...</td>\n      <td>...</td>\n      <td>...</td>\n      <td>...</td>\n      <td>...</td>\n      <td>...</td>\n      <td>...</td>\n      <td>...</td>\n    </tr>\n    <tr>\n      <th>2632</th>\n      <td>12.2</td>\n      <td>19.9</td>\n      <td>0.0</td>\n      <td>4.2</td>\n      <td>8.2</td>\n      <td>43.0</td>\n      <td>9.0</td>\n      <td>28.0</td>\n      <td>53.0</td>\n      <td>57.0</td>\n      <td>...</td>\n      <td>0.0</td>\n      <td>0.0</td>\n      <td>0.0</td>\n      <td>1.0</td>\n      <td>0.0</td>\n      <td>0.0</td>\n      <td>0.0</td>\n      <td>0.0</td>\n      <td>0.0</td>\n      <td>0.0</td>\n    </tr>\n    <tr>\n      <th>1725</th>\n      <td>20.1</td>\n      <td>28.7</td>\n      <td>0.2</td>\n      <td>4.2</td>\n      <td>10.7</td>\n      <td>31.0</td>\n      <td>11.0</td>\n      <td>20.0</td>\n      <td>70.0</td>\n      <td>65.0</td>\n      <td>...</td>\n      <td>0.0</td>\n      <td>0.0</td>\n      <td>0.0</td>\n      <td>0.0</td>\n      <td>0.0</td>\n      <td>0.0</td>\n      <td>0.0</td>\n      <td>0.0</td>\n      <td>0.0</td>\n      <td>0.0</td>\n    </tr>\n    <tr>\n      <th>1158</th>\n      <td>11.6</td>\n      <td>15.7</td>\n      <td>18.2</td>\n      <td>4.8</td>\n      <td>0.3</td>\n      <td>57.0</td>\n      <td>28.0</td>\n      <td>35.0</td>\n      <td>89.0</td>\n      <td>67.0</td>\n      <td>...</td>\n      <td>0.0</td>\n      <td>0.0</td>\n      <td>0.0</td>\n      <td>0.0</td>\n      <td>1.0</td>\n      <td>0.0</td>\n      <td>0.0</td>\n      <td>0.0</td>\n      <td>0.0</td>\n      <td>0.0</td>\n    </tr>\n    <tr>\n      <th>1661</th>\n      <td>16.9</td>\n      <td>23.9</td>\n      <td>0.0</td>\n      <td>9.8</td>\n      <td>9.9</td>\n      <td>57.0</td>\n      <td>19.0</td>\n      <td>28.0</td>\n      <td>60.0</td>\n      <td>51.0</td>\n      <td>...</td>\n      <td>0.0</td>\n      <td>0.0</td>\n      <td>0.0</td>\n      <td>0.0</td>\n      <td>1.0</td>\n      <td>0.0</td>\n      <td>0.0</td>\n      <td>0.0</td>\n      <td>0.0</td>\n      <td>0.0</td>\n    </tr>\n    <tr>\n      <th>68</th>\n      <td>15.6</td>\n      <td>22.2</td>\n      <td>22.8</td>\n      <td>5.4</td>\n      <td>5.8</td>\n      <td>41.0</td>\n      <td>13.0</td>\n      <td>20.0</td>\n      <td>96.0</td>\n      <td>62.0</td>\n      <td>...</td>\n      <td>0.0</td>\n      <td>0.0</td>\n      <td>0.0</td>\n      <td>0.0</td>\n      <td>0.0</td>\n      <td>0.0</td>\n      <td>0.0</td>\n      <td>0.0</td>\n      <td>0.0</td>\n      <td>0.0</td>\n    </tr>\n  </tbody>\n</table>\n<p>655 rows × 66 columns</p>\n</div>"
          },
          "metadata": {}
        }
      ],
      "execution_count": 184
    },
    {
      "cell_type": "code",
      "source": "predictions = SVM.predict(x_test)",
      "metadata": {
        "trusted": true
      },
      "outputs": [],
      "execution_count": 185
    },
    {
      "cell_type": "markdown",
      "source": "#### Q18) Using the `predictions` and the `y_test` dataframe calculate the value for each metric using the appropriate function.\n",
      "metadata": {}
    },
    {
      "cell_type": "code",
      "source": "SVM_Accuracy_Score = accuracy_score(y_test, predictions)\nSVM_JaccardIndex = jaccard_score(y_test, predictions)\nSVM_F1_Score = f1_score(y_test, predictions)\n\n# Create a DataFrame to display the metrics\nreport = pd.DataFrame({\n    'Metric': ['Accuracy Score', 'Jaccard Index', 'F1 Score'],\n    'Value': [SVM_Accuracy_Score, SVM_JaccardIndex, SVM_F1_Score]\n})\n\nprint(report)\n# Compute confusion matrix\ncnf_matrix = confusion_matrix(y_test, predictions)\nnp.set_printoptions(precision=2)\n\nprint (classification_report(y_test, predictions))\n\n# Plot non-normalized confusion matrix\nplt.figure()\nplot_confusion_matrix(cnf_matrix, classes=['No','Yes'],normalize= False,  title='Confusion matrix')",
      "metadata": {
        "trusted": true
      },
      "outputs": [
        {
          "name": "stdout",
          "text": "           Metric     Value\n0  Accuracy Score  0.825954\n1   Jaccard Index  0.421320\n2        F1 Score  0.592857\n              precision    recall  f1-score   support\n\n         0.0       0.82      0.97      0.89       471\n         1.0       0.86      0.45      0.59       184\n\n    accuracy                           0.83       655\n   macro avg       0.84      0.71      0.74       655\nweighted avg       0.83      0.83      0.81       655\n\nConfusion matrix, without normalization\n[[458  13]\n [101  83]]\n",
          "output_type": "stream"
        },
        {
          "output_type": "display_data",
          "data": {
            "text/plain": "<Figure size 640x480 with 2 Axes>",
            "image/png": "[encoded data removed]"
          },
          "metadata": {}
        }
      ],
      "execution_count": 186
    },
    {
      "cell_type": "markdown",
      "source": "### Report\n",
      "metadata": {}
    },
    {
      "cell_type": "markdown",
      "source": "#### Q19) Show the Accuracy,Jaccard Index,F1-Score and LogLoss in a tabular format using data frame for all of the above models.\n\n\\*LogLoss is only for Logistic Regression Model\n",
      "metadata": {}
    },
    {
      "cell_type": "code",
      "source": "LinearRegression_MAE = 0.256319\nLinearRegression_MSE = 0.115721\nLinearRegression_R2 = 0.427130\nKNN_Accuracy_Score =  0.818321\nKNN_JaccardIndex =  0.425121\nKNN_F1_Score = 0.596610\nTree_Accuracy_Score = 0.754198\nTree_JaccardIndex = 0.399254\nTree_F1_Score = 0.570667\nLR_Accuracy_Score = 0.838168\nLR_JaccardIndex = 0.518182\nLR_F1_Score = 0.357721\nLR_LogLoss = 0.357721\nSVM_Accuracy_Score = 0.825954\nSVM_JaccardIndex = 0.421320\nSVM_F1_Score = 0.592857\n\nmetrics = pd.DataFrame({\n    'Model': ['Linear Regression','Linear Regression','Linear Regression','KNN','KNN','KNN','Decision Tree','Decision Tree','Decision Tree','Logistic Regression','Logistic Regression','Logistic Regression','Logistic Regression','SVM','SVM','SVM'],\n    'Metric': ['Mean Absolute Error','Mean Squared Error','R2-Score','Accuracy','Jaccard Index','F1-Score','Accuracy','Jaccard Index','F1-Score','Accuracy','Jaccard Index','F1-Score','LogLoss','Accuracy','Jaccard Index','F1-Score'],\n    'Value': [LinearRegression_MAE, LinearRegression_MSE, LinearRegression_R2, KNN_Accuracy_Score, KNN_JaccardIndex, KNN_F1_Score, Tree_Accuracy_Score, Tree_JaccardIndex, Tree_F1_Score, LR_Accuracy_Score, LR_JaccardIndex, LR_F1_Score, LR_LogLoss, SVM_Accuracy_Score, SVM_JaccardIndex, SVM_F1_Score]\n    })\n\nprint(metrics)",
      "metadata": {
        "trusted": true
      },
      "outputs": [
        {
          "name": "stdout",
          "text": "                  Model               Metric     Value\n0     Linear Regression  Mean Absolute Error  0.256319\n1     Linear Regression   Mean Squared Error  0.115721\n2     Linear Regression             R2-Score  0.427130\n3                   KNN             Accuracy  0.818321\n4                   KNN        Jaccard Index  0.425121\n5                   KNN             F1-Score  0.596610\n6         Decision Tree             Accuracy  0.754198\n7         Decision Tree        Jaccard Index  0.399254\n8         Decision Tree             F1-Score  0.570667\n9   Logistic Regression             Accuracy  0.838168\n10  Logistic Regression        Jaccard Index  0.518182\n11  Logistic Regression             F1-Score  0.357721\n12  Logistic Regression              LogLoss  0.357721\n13                  SVM             Accuracy  0.825954\n14                  SVM        Jaccard Index  0.421320\n15                  SVM             F1-Score  0.592857\n",
          "output_type": "stream"
        }
      ],
      "execution_count": 195
    },
    {
      "cell_type": "code",
      "source": "# Create a DataFrame to display the metrics\nreport = pd.DataFrame({\n    'Metric': ['Accuracy Score', 'Jaccard Index', 'F1 Score'],\n    'Value': [SVM_Accuracy_Score, SVM_JaccardIndex, SVM_F1_Score]\n})\n\nprint(report)\n\n",
      "metadata": {
        "trusted": true
      },
      "outputs": [
        {
          "name": "stdout",
          "text": "           Metric     Value\n0  Accuracy Score  0.825954\n1   Jaccard Index  0.421320\n2        F1 Score  0.592857\n",
          "output_type": "stream"
        }
      ],
      "execution_count": 189
    },
    {
      "cell_type": "markdown",
      "source": "<h2 id=\"Section_5\">  How to submit </h2>\n\n<p>Once you complete your notebook you will have to share it. You can download the notebook by navigating to \"File\" and clicking on \"Download\" button.\n\n<p>This will save the (.ipynb) file on your computer. Once saved, you can upload this file in the \"My Submission\" tab, of the \"Peer-graded Assignment\" section.  \n",
      "metadata": {}
    },
    {
      "cell_type": "markdown",
      "source": "<h2>About the Authors:</h2> \n\n<a href=\"https://www.linkedin.com/in/joseph-s-50398b136/?utm_medium=Exinfluencer&utm_source=Exinfluencer&utm_content=000026UJ&utm_term=10006555&utm_id=NA-SkillsNetwork-Channel-SkillsNetworkCoursesIBMDeveloperSkillsNetworkML0101ENSkillsNetwork20718538-2022-01-01\">Joseph Santarcangelo</a> has a PhD in Electrical Engineering, his research focused on using machine learning, signal processing, and computer vision to determine how videos impact human cognition. Joseph has been working for IBM since he completed his PhD.\n\n### Other Contributors\n\n[Svitlana Kramar](https://www.linkedin.com/in/svitlana-kramar/?utm_medium=Exinfluencer&utm_source=Exinfluencer&utm_content=000026UJ&utm_term=10006555&utm_id=NA-SkillsNetwork-Channel-SkillsNetworkCoursesIBMML0232ENSkillsNetwork30654641-2022-01-01)\n",
      "metadata": {}
    },
    {
      "cell_type": "markdown",
      "source": "## Change Log\n\n| Date (YYYY-MM-DD) | Version | Changed By    | Change Description          |\n| ----------------- | ------- | ------------- | --------------------------- |\n| 2022-06-22        | 2.0     | Svitlana K.   | Deleted GridSearch and Mock |\n\n## <h3 align=\"center\"> © IBM Corporation 2020. All rights reserved. <h3/>\n",
      "metadata": {}
    }
  ]
}